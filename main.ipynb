{
 "cells": [
  {
   "cell_type": "markdown",
   "metadata": {},
   "source": [
    "This is a project which dus not have any purpus other then to find its purpus "
   ]
  },
  {
   "cell_type": "code",
   "execution_count": 42,
   "metadata": {},
   "outputs": [],
   "source": [
    "import pyaudio , wave #for audio manapulation \n",
    "import tkinter as tk  #for GUI\n",
    "from contextlib import contextmanager #for context manager"
   ]
  },
  {
   "cell_type": "code",
   "execution_count": null,
   "metadata": {},
   "outputs": [],
   "source": []
  },
  {
   "cell_type": "markdown",
   "metadata": {},
   "source": [
    "# The bellow function turns audio input from input decvice to a wave file and stores it \n",
    "to make it fast and effecent i used generators "
   ]
  },
  {
   "cell_type": "code",
   "execution_count": 43,
   "metadata": {},
   "outputs": [],
   "source": [
    "@contextmanager\n",
    "def fram_rec(stream=None, frames_per_buffer=3200):\n",
    "    data = stream.read(frames_per_buffer)\n",
    "    yield data\n",
    "def rec(label,n=0):\n",
    "    frames_per_buffer = 3200\n",
    "    format = pyaudio.paInt16\n",
    "    channels = 1\n",
    "    rate = 16000\n",
    "    p = pyaudio.PyAudio()\n",
    "    stream = p.open(\n",
    "        format=format, \n",
    "        channels=channels,\n",
    "        rate=rate,\n",
    "        input=True,\n",
    "        input_device_index=n,\n",
    "        frames_per_buffer=frames_per_buffer)\n",
    "    \n",
    "    label.config(text='Recording...')\n",
    "    label.update()\n",
    "    sec=10\n",
    "    frames = []\n",
    "    for i in range(0, int(rate / frames_per_buffer * sec)):\n",
    "        with fram_rec(stream,frames_per_buffer) as data:\n",
    "            frames.append(data)  \n",
    "    stream.close()   \n",
    "    p.terminate()\n",
    "    label.config(text='Recording Completed')\n",
    "    label.update()\n",
    "    stor(frames=frames,format=format,channels=channels,rate=rate)\n",
    "\n",
    "def stor(frames,format,channels,rate):  \n",
    "    new_Rwave = wave.open('2Rwave.wav','wb')\n",
    "    new_Rwave.setnchannels(channels)\n",
    "    new_Rwave.setsampwidth(p.get_sample_size(format))\n",
    "    new_Rwave.setframerate(rate)\n",
    "    new_Rwave.writeframes(b''.join(frames))\n",
    "    new_Rwave.close()"
   ]
  },
  {
   "cell_type": "markdown",
   "metadata": {},
   "source": []
  },
  {
   "cell_type": "markdown",
   "metadata": {},
   "source": [
    "The bellow code is for the gui interface "
   ]
  },
  {
   "cell_type": "code",
   "execution_count": null,
   "metadata": {},
   "outputs": [],
   "source": [
    "# Create the main window\n",
    "root = tk.Tk()\n",
    "root.title(\"main window\")\n",
    "root.geometry(\"400x400\")\n",
    "# Create a label to display messages to the user\n",
    "label = tk.Label(root, text=\"Press the button to start recording\")\n",
    "label.pack(pady=10)\n",
    "\n",
    "dropdown_var = tk.StringVar()\n",
    "\n",
    "# List of options for the available devices\n",
    "device_options = []\n",
    "\n",
    "# adding options to the dropdown menu so select device for recording audio form \n",
    "p = pyaudio.PyAudio()\n",
    "def_device_info = p.get_default_input_device_info()\n",
    "def_device_index = 0\n",
    "for i in range(p.get_device_count()):\n",
    "        device_info = p.get_device_info_by_index(i)\n",
    "        device_options.append(f\"Device {i}: {device_info['name']}\")\n",
    "        if device_info['name'] == def_device_info['name']:\n",
    "            def_device_index = i\n",
    "dropdown_var.set(device_options[def_device_index])  # Set default option\n",
    "dropdown = tk.OptionMenu(root, dropdown_var, *device_options)\n",
    "dropdown.pack(pady=20)\n",
    "        \n",
    "# Create a button to start recording audio\n",
    "button = tk.Button(root,text=\"Record\", command = lambda:rec(label,int(dropdown_var.get().split()[1][:-1])))\n",
    "button.pack(pady=10)\n",
    "# Start the Tkinter event loop\n",
    "root.mainloop()"
   ]
  }
 ],
 "metadata": {
  "kernelspec": {
   "display_name": "base",
   "language": "python",
   "name": "python3"
  },
  "language_info": {
   "codemirror_mode": {
    "name": "ipython",
    "version": 3
   },
   "file_extension": ".py",
   "mimetype": "text/x-python",
   "name": "python",
   "nbconvert_exporter": "python",
   "pygments_lexer": "ipython3",
   "version": "3.12.7"
  }
 },
 "nbformat": 4,
 "nbformat_minor": 2
}
