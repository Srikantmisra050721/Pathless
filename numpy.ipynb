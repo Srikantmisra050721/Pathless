{
 "cells": [
  {
   "cell_type": "markdown",
   "metadata": {},
   "source": [
    "# NumPy\n",
    "A scirntific computations library used for its multidimention array object . and faster computation speeds then normal python struct like list  . it is due you being able to store less information about the object then the list which store much more information leading to it being read faster ,and dus not need type checking as np arrays store data of the same typr,and in list the pointer of the information is stored where as np arrays use continuous memory meaning all information is stored side by side.\n",
    "note np arrays can do what ever list can and even more which includes things like sort()"
   ]
  },
  {
   "cell_type": "code",
   "execution_count": null,
   "metadata": {},
   "outputs": [],
   "source": [
    "import numpy as np"
   ]
  },
  {
   "cell_type": "code",
   "execution_count": null,
   "metadata": {},
   "outputs": [],
   "source": [
    "a = np.array([[1, 2],[1.0,2.0]])\n",
    "b= np.array([1, 2],dtype=\"int16\")#spacifing data type helps in storing data efficiently\n",
    "print(a)"
   ]
  },
  {
   "cell_type": "markdown",
   "metadata": {},
   "source": [
    "# general info about the Np object "
   ]
  },
  {
   "cell_type": "code",
   "execution_count": null,
   "metadata": {},
   "outputs": [],
   "source": [
    "print (b.ndim) # number of dimensions\n",
    "print (b.shape)# shape of the array\n",
    "print (b.size )# number of elements in the array\n",
    "print (b.dtype)# data type of the elements in the array\n",
    "print (b.itemsize)# size in bytes of each element of the array\n",
    "print(b.nbytes==b.size*b.itemsize)# total size of the array =no of elements * size of each element"
   ]
  },
  {
   "cell_type": "markdown",
   "metadata": {},
   "source": [
    "# working with rows and columns"
   ]
  },
  {
   "cell_type": "code",
   "execution_count": null,
   "metadata": {},
   "outputs": [],
   "source": [
    "a= np.array([[1,3,6,9],[1,2,4,8]])\n",
    "print (a)"
   ]
  },
  {
   "cell_type": "code",
   "execution_count": null,
   "metadata": {},
   "outputs": [],
   "source": [
    "print(a[0,1])#a spacific elements\n",
    "print(a[0,::2])#a spacific row (note y can slice np arrays just like lists in python)\n",
    "print(a[:,2])#a spacific column\n",
    "a[:,1]=0#changing a spacific column can chain slicing to change row and spacific elements "
   ]
  },
  {
   "cell_type": "markdown",
   "metadata": {},
   "source": [
    "# creating diffrent types of array"
   ]
  },
  {
   "cell_type": "code",
   "execution_count": null,
   "metadata": {},
   "outputs": [],
   "source": [
    "z=np.zeros((3,3))#creating a 3x3 array of zeros\n",
    "#print(z)\n",
    "O=np.ones((3,3))#creating a 3x3 array of ones\n",
    "#print(O)\n",
    "f=np.full((3,3),21)#creating a 3x3 array of same number\n",
    "#print(f)\n",
    "fl=np.full_like(a,21)#creating a array of same shape as a\n",
    "#print(fl)   \n",
    "r=np.random.rand(4,2)#creating a 4x2 array of random numbers\n",
    "#print(r)\n",
    "rs=np.random.random_sample(a.shape)#creating a array of random numbers of same shape as a\n",
    "#print(rs)\n",
    "rI=np.random.randint(5,9, size=(4,4))#creating a 3x3 array of random integers\n",
    "#print(rI)\n",
    "I=np.identity(5)#creating a 5x5 identity matrix\n",
    "#print(I)\n",
    "re=np.repeat(a,2,axis=1)#repeating the array 2 times along the row\n",
    "#print(re)"
   ]
  },
  {
   "cell_type": "markdown",
   "metadata": {},
   "source": [
    "# math wih Np Arrays"
   ]
  },
  {
   "cell_type": "code",
   "execution_count": null,
   "metadata": {},
   "outputs": [],
   "source": [
    "a=np.array([[1,2,3]])\n",
    "b=np.array([[1,0,0]])"
   ]
  },
  {
   "cell_type": "code",
   "execution_count": null,
   "metadata": {},
   "outputs": [],
   "source": [
    "a+1"
   ]
  },
  {
   "cell_type": "code",
   "execution_count": null,
   "metadata": {},
   "outputs": [],
   "source": [
    "a-1"
   ]
  },
  {
   "cell_type": "code",
   "execution_count": null,
   "metadata": {},
   "outputs": [],
   "source": [
    "a*2"
   ]
  },
  {
   "cell_type": "code",
   "execution_count": null,
   "metadata": {},
   "outputs": [],
   "source": [
    "a/2"
   ]
  },
  {
   "cell_type": "code",
   "execution_count": null,
   "metadata": {},
   "outputs": [],
   "source": [
    "a%2"
   ]
  },
  {
   "cell_type": "code",
   "execution_count": null,
   "metadata": {},
   "outputs": [],
   "source": [
    "a+b"
   ]
  },
  {
   "cell_type": "code",
   "execution_count": null,
   "metadata": {},
   "outputs": [],
   "source": [
    "a**2"
   ]
  },
  {
   "cell_type": "markdown",
   "metadata": {},
   "source": [
    "# linear algebra"
   ]
  },
  {
   "cell_type": "code",
   "execution_count": null,
   "metadata": {},
   "outputs": [],
   "source": [
    "a=np.ones((2,3),dtype=\"int32\")\n",
    "print(a)\n",
    "b=np.random.randint(5,9, size=(3,2),)\n",
    "print(b)\n",
    "print(np.matmul(a,b))#matrix multiplication\n",
    "print(np.linalg.det(I))#determinant of the identaty matrix "
   ]
  },
  {
   "cell_type": "markdown",
   "metadata": {},
   "source": [
    "# statistics"
   ]
  },
  {
   "cell_type": "code",
   "execution_count": null,
   "metadata": {},
   "outputs": [],
   "source": [
    "stats = np.array([[1,2,3],[4,5,6]])\n",
    "print(np.min(stats))#minimum value of the array\n",
    "print(np.max(stats))#maximum value of the array\n",
    "print(np.sum(stats))#sum of all the elements of the array\n",
    "print(np.min(stats,axis=0))#minimum row in between the columns\n",
    "print(np.min(stats,axis=1))#minimum column in between the rows"
   ]
  },
  {
   "cell_type": "markdown",
   "metadata": {},
   "source": [
    "# reorganizing array "
   ]
  },
  {
   "cell_type": "code",
   "execution_count": null,
   "metadata": {},
   "outputs": [],
   "source": [
    "a=np.array([[1,2,3,4],[4,5,6,7]])\n",
    "print(a)\n",
    "b=a.reshape((2,2,2))#reshaping/changind dimention of the array\n",
    "print(b)\n",
    "v1=np.array([1,2,3,4])\n",
    "v2=np.array([5,6,7,8])\n",
    "print(np.vstack([v1,v2]))#stacking arrays vertically\n",
    "print(np.hstack([v1,v2]))#stacking arrays horizontally "
   ]
  },
  {
   "cell_type": "markdown",
   "metadata": {},
   "source": [
    "# file handeling using num py "
   ]
  },
  {
   "cell_type": "code",
   "execution_count": null,
   "metadata": {},
   "outputs": [],
   "source": [
    "np.savetxt(\"data.txt\", [np.hstack(I[:-3,:4]),np.hstack(np.vstack([v1,v2]))], fmt='%s',delimiter=\",\") #only works for giving data of 1d,2d arrays to a file "
   ]
  },
  {
   "cell_type": "code",
   "execution_count": null,
   "metadata": {},
   "outputs": [],
   "source": [
    "#loading data from a file into a numpy array\n",
    "filedata = np.genfromtxt('data.txt', delimiter=',')\n",
    "filedata=filedata.astype('int32')#changing the data type of the array\n",
    "vec1=filedata[0].reshape(2,4)#reshaping the array\n",
    "vec2=filedata[1].reshape(2,4)\n",
    "print(vec1)\n",
    "print(vec2)"
   ]
  },
  {
   "cell_type": "markdown",
   "metadata": {},
   "source": [
    "# boolen masking ,advance indexing "
   ]
  },
  {
   "cell_type": "code",
   "execution_count": 100,
   "metadata": {},
   "outputs": [
    {
     "name": "stdout",
     "output_type": "stream",
     "text": [
      "[6 7 8]\n",
      "[False False]\n"
     ]
    },
    {
     "data": {
      "text/plain": [
       "array([ True, False, False, False, False,  True, False, False])"
      ]
     },
     "execution_count": 100,
     "metadata": {},
     "output_type": "execute_result"
    }
   ],
   "source": [
    "filedata>5#returns a boolean array of the elements greater than 5\n",
    "#now we can use this boolean array to get the elements greater than 5\n",
    "print(filedata[filedata>5])#returns the elements greater than 5\n",
    "#we can also check the elements greater than 5 in a spacific column/rows\n",
    "print(np.any(filedata<0,axis=1))#returns a boolean array of the elements < 0 in the columns \n",
    "np.all(filedata>0,axis=0)#returns a boolean array of the elements > 0 in the rows"
   ]
  }
 ],
 "metadata": {
  "kernelspec": {
   "display_name": "base",
   "language": "python",
   "name": "python3"
  },
  "language_info": {
   "codemirror_mode": {
    "name": "ipython",
    "version": 3
   },
   "file_extension": ".py",
   "mimetype": "text/x-python",
   "name": "python",
   "nbconvert_exporter": "python",
   "pygments_lexer": "ipython3",
   "version": "3.12.7"
  }
 },
 "nbformat": 4,
 "nbformat_minor": 2
}
