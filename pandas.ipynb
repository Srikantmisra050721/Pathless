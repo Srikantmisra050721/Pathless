{
 "cells": [
  {
   "cell_type": "markdown",
   "metadata": {},
   "source": [
    "# pandas"
   ]
  },
  {
   "cell_type": "code",
   "execution_count": null,
   "metadata": {},
   "outputs": [],
   "source": [
    "import pandas as pd \n",
    "import numpy as np #panda is dependent of num py so bothe need to be called together"
   ]
  },
  {
   "cell_type": "markdown",
   "metadata": {},
   "source": [
    "Setting data frames and series "
   ]
  },
  {
   "cell_type": "code",
   "execution_count": 13,
   "metadata": {},
   "outputs": [],
   "source": [
    "df = pd.DataFrame(\n",
    "    {\n",
    "        \"Name\":\n",
    "            [\"Braund, Mr. Owen Harris\",\n",
    "             \"Allen, Mr. William Henry\",\n",
    "             \"Bonnell, Miss. Elizabeth\",],\n",
    "        \"Age\": [22, 35, 58],\n",
    "        \"Sex\":[\"male\", \"male\", \"female\"],\n",
    "        }\n",
    "    )\n",
    "df[\"Age\"]#a singel column from a data frame is a series\n",
    "ds = pd.Series([1, 2, 3, 4, 5], name=\"num series\")# you can crat a series by your self \n",
    "Poke_frame = pd.read_csv(\"pokemon.csv\")#read a csv file to make a data frame from it "
   ]
  },
  {
   "cell_type": "markdown",
   "metadata": {},
   "source": [
    "Using a dataframe/series "
   ]
  },
  {
   "cell_type": "code",
   "execution_count": 22,
   "metadata": {},
   "outputs": [
    {
     "name": "stdout",
     "output_type": "stream",
     "text": [
      "58\n",
      "<class 'pandas.core.frame.DataFrame'>\n",
      "RangeIndex: 800 entries, 0 to 799\n",
      "Data columns (total 13 columns):\n",
      " #   Column      Non-Null Count  Dtype \n",
      "---  ------      --------------  ----- \n",
      " 0   #           800 non-null    int64 \n",
      " 1   Name        800 non-null    object\n",
      " 2   Type 1      800 non-null    object\n",
      " 3   Type 2      414 non-null    object\n",
      " 4   Total       800 non-null    int64 \n",
      " 5   HP          800 non-null    int64 \n",
      " 6   Attack      800 non-null    int64 \n",
      " 7   Defense     800 non-null    int64 \n",
      " 8   Sp. Atk     800 non-null    int64 \n",
      " 9   Sp. Def     800 non-null    int64 \n",
      " 10  Speed       800 non-null    int64 \n",
      " 11  Generation  800 non-null    int64 \n",
      " 12  Legendary   800 non-null    bool  \n",
      "dtypes: bool(1), int64(9), object(3)\n",
      "memory usage: 75.9+ KB\n"
     ]
    }
   ],
   "source": [
    "print(df[\"Age\"].max())#max value of the age column\n",
    "df.describe()#gives a summary on some basic statistics of the numerical data of the data frame\n",
    "#note that text data like names is filtered out in the describe function\n",
    "Poke_frame.tail(5)#gives the first 5 rows of the data frame\n",
    "Poke_frame.dtypes# gives the data types of the columns in the data frame\n",
    "Poke_frame.to_excel(\"pokemon.xlsx\",sheet_name=\"pokedex\",index=False)#converts the data frame to a json file\n",
    "Poke_frame=pd.read_excel(\"pokemon.xlsx\",sheet_name=\"pokedex\")#reads the excel file to a data frame\n",
    "Poke_frame.info()#gives a summary of the data frame"
   ]
  }
 ],
 "metadata": {
  "kernelspec": {
   "display_name": "Python 3",
   "language": "python",
   "name": "python3"
  },
  "language_info": {
   "codemirror_mode": {
    "name": "ipython",
    "version": 3
   },
   "file_extension": ".py",
   "mimetype": "text/x-python",
   "name": "python",
   "nbconvert_exporter": "python",
   "pygments_lexer": "ipython3",
   "version": "3.12.7"
  }
 },
 "nbformat": 4,
 "nbformat_minor": 2
}
